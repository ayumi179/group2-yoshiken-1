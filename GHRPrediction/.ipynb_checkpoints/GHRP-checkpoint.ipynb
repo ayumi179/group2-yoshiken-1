{
 "cells": [
  {
   "cell_type": "code",
   "execution_count": 422,
   "metadata": {
    "collapsed": true
   },
   "outputs": [],
   "source": [
    "from sklearn.neural_network import MLPClassifier\n",
    "from sklearn import datasets, metrics\n",
    "from sklearn.linear_model import LinearRegression\n",
    "from sklearn.neural_network import MLPRegressor\n",
    "from sklearn.ensemble import RandomForestRegressor\n",
    "\n",
    "# 平均二乗誤差を評価するためのメソッドを呼び出し\n",
    "from sklearn.metrics import mean_squared_error\n",
    "from sklearn.metrics import r2_score\n",
    "\n",
    "import numpy as np\n",
    "np.set_printoptions(threshold=np.inf)\n",
    "import pandas as pd"
   ]
  },
  {
   "cell_type": "code",
   "execution_count": 389,
   "metadata": {
    "collapsed": true
   },
   "outputs": [],
   "source": [
    "def input_data(dr):\n",
    "    #読み込みたいcsvファイルへのパス作成、読み込み\n",
    "    path = dr + 'wetherInfo.csv'\n",
    "    input_data = pd.read_csv(path)\n",
    "    \n",
    "    #必要な部分だけ抽出\n",
    "    input_data = input_data.iloc[:, (len(input_data.columns)-4):len(input_data.columns)]\n",
    "    \n",
    "    #欠損地除去\n",
    "    input_data = input_data.dropna()\n",
    "    \n",
    "    return input_data"
   ]
  },
  {
   "cell_type": "code",
   "execution_count": 390,
   "metadata": {
    "collapsed": true
   },
   "outputs": [],
   "source": [
    "#特徴抽出、ベクトル化\n",
    "def data_fe(data):\n",
    "    #1時間前との差分を追加\n",
    "    data['temp_dfr'] = data['temp'] - data['temp'].shift(1)\n",
    "    data['wind_dfr'] = data['wind'] - data['wind'].shift(1)\n",
    "    data['humidity_dfr'] = data['humidity'] - data['humidity'].shift(1)\n",
    "\n",
    "    #欠損値除去\n",
    "    data = data.dropna()\n",
    "\n",
    "    #ベクトル化\n",
    "    x_data = data.as_matrix()\n",
    "\n",
    "    return x_data"
   ]
  },
  {
   "cell_type": "code",
   "execution_count": 391,
   "metadata": {
    "collapsed": true
   },
   "outputs": [],
   "source": [
    "def NN_label_vec(input_data):\n",
    "    #1時間後に雨が10mm以上降れば１、降らなければ０でラベルを作成\n",
    "    data = np.array(input_data.rain >= 5, dtype = 'int')\n",
    "    label_vec = np.roll(data, -1)\n",
    "    label_vec[len(label_vec) - 1] = 0\n",
    "\n",
    "    return label_vec\n",
    "\n",
    "def NN(x_train, y_train, x_test, y_test):\n",
    "    #MLPClassifier適用\n",
    "    clf = MLPClassifier(hidden_layer_sizes=(100,100), random_state=1)\n",
    "    clf.fit(x_train, y_train)\n",
    "\n",
    "    #clf（トレーニング済み）にテスト用データを適用\n",
    "    predicted = clf.predict(x_test)\n",
    "    print(metrics.classification_report(y_test, predicted))"
   ]
  },
  {
   "cell_type": "code",
   "execution_count": 392,
   "metadata": {
    "collapsed": true
   },
   "outputs": [],
   "source": [
    "def LR_label_vec(input_data):\n",
    "    data = np.array(input_data.rain)\n",
    "    label_vec = np.roll(data, -1)\n",
    "    label_vec[len(label_vec)-1] = 0\n",
    "    \n",
    "    return label_vec\n",
    "\n",
    "def LR(x_train, y_train, x_test, y_test):\n",
    "    #オブジェクト生成\n",
    "    mod = LinearRegression(fit_intercept = True, normalize = True, copy_X = True, n_jobs = 1)\n",
    "    #教師用データでパラメータ推定\n",
    "    mod.fit(x_train, y_train)\n",
    "    \n",
    "    #作成したモデルから予測\n",
    "    y_train_pred = mod.predict(x_train)\n",
    "    y_test_pred = mod.predict(x_test)\n",
    "    \n",
    "    #教師用、テスト用データに関して平均二乗誤差を出力\n",
    "    #小さいほどモデルの性能がいい\n",
    "    print('MSE Train : %.3f, Test : %.3f' % (mean_squared_error(y_train, y_train_pred), mean_squared_error(y_test, y_test_pred)))\n",
    "    #教師用、テスト用データに関してR^2を出力\n",
    "    #1に近いほどモデルの性能がいい\n",
    "    print('R^2 Train : %.3f, Test : %.3f' % (mod.score(x_train, y_train), mod.score(x_test, y_test)))\n"
   ]
  },
  {
   "cell_type": "code",
   "execution_count": 419,
   "metadata": {
    "collapsed": true
   },
   "outputs": [],
   "source": [
    "def MLPR(x_train, y_train, x_test, y_test):\n",
    "    mod = MLPRegressor(hidden_layer_sizes=(2000,1000,500,1000, 2000),random_state=42)\n",
    "    mod.fit(x_train, y_train)\n",
    "    print(mod.score(x_test,y_test))\n",
    "    "
   ]
  },
  {
   "cell_type": "code",
   "execution_count": 423,
   "metadata": {
    "collapsed": true
   },
   "outputs": [],
   "source": [
    "def RFR(x_train, y_train, x_test, y_test):\n",
    "    # モデル構築、パラメータはデフォルト\n",
    "    forest = RandomForestRegressor()\n",
    "    forest.fit(x_train, y_train)\n",
    "    \n",
    "    # 予測値を計算\n",
    "    y_train_pred = forest.predict(x_train)\n",
    "    y_test_pred = forest.predict(x_test)\n",
    "    \n",
    "    print('MSE train : %.3f, test : %.3f' % (mean_squared_error(y_train, y_train_pred), mean_squared_error(y_test, y_test_pred)) )\n",
    "    # R^2の計算\n",
    "    print('MSE train : %.3f, test : %.3f' % (r2_score(y_train, y_train_pred), r2_score(y_test, y_test_pred)) )\n"
   ]
  },
  {
   "cell_type": "code",
   "execution_count": 425,
   "metadata": {},
   "outputs": [
    {
     "name": "stdout",
     "output_type": "stream",
     "text": [
      "MSE train : 0.448, test : 1.751\n",
      "MSE train : 0.864, test : 0.307\n"
     ]
    }
   ],
   "source": [
    "if __name__ == '__main__':\n",
    "    \n",
    "    #train -> 教師用\n",
    "    #test -> テスト用\n",
    "    \n",
    "    #読み込みたいcsvファイルのあるディレクトを引数として取得\n",
    "    #args = sys.argv\n",
    "    #dr_train = args[1]\n",
    "    #dr_test = args[2]\n",
    "    dr_train = './kochi_train2015/'\n",
    "    dr_test = './kochi_test2016/'\n",
    "    \n",
    "    \n",
    "    #csv読み込み、欠損地除去\n",
    "    input_train = input_data(dr_train)\n",
    "    input_test = input_data(dr_test)\n",
    "    \n",
    "    \n",
    "    #特徴抽出、ベクトル化\n",
    "    x_train = data_fe(input_train)\n",
    "    x_test = data_fe(input_test)\n",
    "    \n",
    "    \n",
    "    #ラベル作成\n",
    "    \n",
    "    #NN\n",
    "    #y_train = NN_label_vec(data_train)\n",
    "    #y_test = NN_label_vec(data_test)\n",
    "    \n",
    "    #Liner Regression, Neural Network Regression\n",
    "    y_train = LR_label_vec(data_train)\n",
    "    y_test = LR_label_vec(data_test)\n",
    "    \n",
    "    \n",
    "    \n",
    "    #学習・識別率算出\n",
    "    \n",
    "    #NN\n",
    "    #NN(x_train, y_train, x_test, y_test)\n",
    "    \n",
    "    #Liner Regression\n",
    "    #LR(x_train, y_train, x_test, y_test)\n",
    "    \n",
    "    #Neural Network Regression\n",
    "    #MLPR(x_train, y_train, x_test, y_test)\n",
    "    \n",
    "    RFR(x_train, y_train, x_test, y_test)\n"
   ]
  },
  {
   "cell_type": "code",
   "execution_count": null,
   "metadata": {},
   "outputs": [],
   "source": []
  },
  {
   "cell_type": "code",
   "execution_count": null,
   "metadata": {
    "collapsed": true
   },
   "outputs": [],
   "source": []
  }
 ],
 "metadata": {
  "kernelspec": {
   "display_name": "Python 3",
   "language": "python",
   "name": "python3"
  },
  "language_info": {
   "codemirror_mode": {
    "name": "ipython",
    "version": 3
   },
   "file_extension": ".py",
   "mimetype": "text/x-python",
   "name": "python",
   "nbconvert_exporter": "python",
   "pygments_lexer": "ipython3",
   "version": "3.6.1"
  }
 },
 "nbformat": 4,
 "nbformat_minor": 2
}
