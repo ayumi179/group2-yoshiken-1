{
 "cells": [
  {
   "cell_type": "code",
   "execution_count": 166,
   "metadata": {
    "collapsed": true
   },
   "outputs": [],
   "source": [
    "from sklearn.neural_network import MLPClassifier\n",
    "from sklearn import datasets, metrics\n",
    "import numpy as np\n",
    "import pandas as pd"
   ]
  },
  {
   "cell_type": "code",
   "execution_count": 222,
   "metadata": {},
   "outputs": [
    {
     "data": {
      "text/plain": [
       "(30, 6)"
      ]
     },
     "execution_count": 222,
     "metadata": {},
     "output_type": "execute_result"
    }
   ],
   "source": [
    "#csvファイル読み込み\n",
    "\n",
    "#教師用\n",
    "#使用する属性だけ抽出、NaN除外\n",
    "input_training = pd.read_csv(\"./kochi_training/wetherInfo.csv\")\n",
    "input_training = input_training.dropna()\n",
    "training_data = input_training.iloc[:, 2:6]\n",
    "\n",
    "\n",
    "#教師用データをベクトル化\n",
    "d_train = training_data.as_matrix()\n",
    "\n",
    "#教師用ラベル：1時間後に雨が10mm以上降れば１、降らなければ０でラベルを作成\n",
    "#Neural Network\n",
    "#l_train = np.array(training_data.rain >= 5, dtype = 'int')\n",
    "#l_train = np.roll(l_train, -1)\n",
    "#l_train[len(l_train) - 1] = 0\n",
    "\n",
    "\n",
    "#テスト用\n",
    "#使用する属性だけ抽出、NaN除外\n",
    "input_test = pd.read_csv(\"./kochi_test/wetherInfo.csv\")\n",
    "input_test = input_test.dropna()\n",
    "test_data = input_test.iloc[:, 2:6]\n",
    "\n",
    "#テスト用データをベクトル化\n",
    "d_test = test_data.as_matrix()\n",
    "\n",
    "#テスト用ラベル\n",
    "#1時間後に雨が10mm以上降れば１、降らなければ０でラベルを作成\n",
    "#Neural Network\n",
    "#expected = np.array(test_data.rain >= 5, dtype = 'int')\n",
    "#expected = np.roll(l_test, -1)\n",
    "#expected[len(l_test) - 1] = 0"
   ]
  },
  {
   "cell_type": "code",
   "execution_count": null,
   "metadata": {
    "collapsed": true
   },
   "outputs": [],
   "source": []
  },
  {
   "cell_type": "code",
   "execution_count": 198,
   "metadata": {
    "collapsed": true,
    "scrolled": true
   },
   "outputs": [],
   "source": [
    "clf = MLPClassifier(hidden_layer_sizes=(100,100), random_state=1)"
   ]
  },
  {
   "cell_type": "code",
   "execution_count": 199,
   "metadata": {},
   "outputs": [
    {
     "name": "stdout",
     "output_type": "stream",
     "text": [
      "MLPClassifier(activation='relu', alpha=0.0001, batch_size='auto', beta_1=0.9,\n",
      "       beta_2=0.999, early_stopping=False, epsilon=1e-08,\n",
      "       hidden_layer_sizes=(100, 100), learning_rate='constant',\n",
      "       learning_rate_init=0.001, max_iter=200, momentum=0.9,\n",
      "       nesterovs_momentum=True, power_t=0.5, random_state=1, shuffle=True,\n",
      "       solver='adam', tol=0.0001, validation_fraction=0.1, verbose=False,\n",
      "       warm_start=False)\n"
     ]
    }
   ],
   "source": [
    "clf.fit(d_train, l_train)\n",
    "print(clf) "
   ]
  },
  {
   "cell_type": "code",
   "execution_count": 200,
   "metadata": {
    "scrolled": false
   },
   "outputs": [
    {
     "name": "stdout",
     "output_type": "stream",
     "text": [
      "             precision    recall  f1-score   support\n",
      "\n",
      "          0       0.99      1.00      1.00      8731\n",
      "          1       0.22      0.04      0.07        52\n",
      "\n",
      "avg / total       0.99      0.99      0.99      8783\n",
      "\n"
     ]
    }
   ],
   "source": [
    "#clf（トレーニング済み）にテスト用データを適用\n",
    "predicted = clf.predict(d_test)\n",
    "print(metrics.classification_report(expected, predicted))"
   ]
  },
  {
   "cell_type": "code",
   "execution_count": null,
   "metadata": {
    "collapsed": true
   },
   "outputs": [],
   "source": []
  }
 ],
 "metadata": {
  "kernelspec": {
   "display_name": "Python 3",
   "language": "python",
   "name": "python3"
  },
  "language_info": {
   "codemirror_mode": {
    "name": "ipython",
    "version": 3
   },
   "file_extension": ".py",
   "mimetype": "text/x-python",
   "name": "python",
   "nbconvert_exporter": "python",
   "pygments_lexer": "ipython3",
   "version": "3.6.1"
  }
 },
 "nbformat": 4,
 "nbformat_minor": 2
}
